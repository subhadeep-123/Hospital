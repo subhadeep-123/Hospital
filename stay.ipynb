{
 "cells": [
  {
   "cell_type": "code",
   "execution_count": 1,
   "metadata": {
    "_cell_guid": "b1076dfc-b9ad-4769-8c92-a6c4dae69d19",
    "_uuid": "8f2839f25d086af736a60e9eeb907d3b93b6e0e5"
   },
   "outputs": [],
   "source": [
    "import joblib\r\n",
    "import statistics\r\n",
    "import numpy as np\r\n",
    "import pandas as pd\r\n",
    "import seaborn as sns\r\n",
    "import matplotlib.pyplot as plt\r\n",
    "from sklearn.metrics import accuracy_score\r\n",
    "from sklearn.model_selection import train_test_split"
   ]
  },
  {
   "cell_type": "markdown",
   "metadata": {},
   "source": [
    "## Cleaning and Rearranging data"
   ]
  },
  {
   "cell_type": "code",
   "execution_count": 2,
   "metadata": {
    "_cell_guid": "79c7e3d0-c299-4dcb-8224-4455121ee9b0",
    "_uuid": "d629ff2d2480ee46fbb7e2d37f6b5fab8052498a"
   },
   "outputs": [
    {
     "name": "stdout",
     "output_type": "stream",
     "text": [
      "(318438, 18)\n",
      "(137057, 17)\n"
     ]
    }
   ],
   "source": [
    "train = pd.read_csv(\"dataset/train_data.csv\")\r\n",
    "test = pd.read_csv(\"dataset/test_data.csv\")\r\n",
    "print(train.shape)\r\n",
    "print(test.shape)"
   ]
  },
  {
   "cell_type": "code",
   "execution_count": 3,
   "metadata": {},
   "outputs": [
    {
     "data": {
      "text/html": [
       "<div>\n",
       "<style scoped>\n",
       "    .dataframe tbody tr th:only-of-type {\n",
       "        vertical-align: middle;\n",
       "    }\n",
       "\n",
       "    .dataframe tbody tr th {\n",
       "        vertical-align: top;\n",
       "    }\n",
       "\n",
       "    .dataframe thead th {\n",
       "        text-align: right;\n",
       "    }\n",
       "</style>\n",
       "<table border=\"1\" class=\"dataframe\">\n",
       "  <thead>\n",
       "    <tr style=\"text-align: right;\">\n",
       "      <th></th>\n",
       "      <th>case_id</th>\n",
       "      <th>Hospital_code</th>\n",
       "      <th>Hospital_type_code</th>\n",
       "      <th>City_Code_Hospital</th>\n",
       "      <th>Hospital_region_code</th>\n",
       "      <th>Available Extra Rooms in Hospital</th>\n",
       "      <th>Department</th>\n",
       "      <th>Ward_Type</th>\n",
       "      <th>Ward_Facility_Code</th>\n",
       "      <th>Bed Grade</th>\n",
       "      <th>patientid</th>\n",
       "      <th>City_Code_Patient</th>\n",
       "      <th>Type of Admission</th>\n",
       "      <th>Severity of Illness</th>\n",
       "      <th>Visitors with Patient</th>\n",
       "      <th>Age</th>\n",
       "      <th>Admission_Deposit</th>\n",
       "      <th>Stay</th>\n",
       "    </tr>\n",
       "  </thead>\n",
       "  <tbody>\n",
       "    <tr>\n",
       "      <th>0</th>\n",
       "      <td>1</td>\n",
       "      <td>8</td>\n",
       "      <td>c</td>\n",
       "      <td>3</td>\n",
       "      <td>Z</td>\n",
       "      <td>3</td>\n",
       "      <td>radiotherapy</td>\n",
       "      <td>R</td>\n",
       "      <td>F</td>\n",
       "      <td>2.0</td>\n",
       "      <td>31397</td>\n",
       "      <td>7.0</td>\n",
       "      <td>Emergency</td>\n",
       "      <td>Extreme</td>\n",
       "      <td>2</td>\n",
       "      <td>51-60</td>\n",
       "      <td>4911.0</td>\n",
       "      <td>0-10</td>\n",
       "    </tr>\n",
       "    <tr>\n",
       "      <th>1</th>\n",
       "      <td>2</td>\n",
       "      <td>2</td>\n",
       "      <td>c</td>\n",
       "      <td>5</td>\n",
       "      <td>Z</td>\n",
       "      <td>2</td>\n",
       "      <td>radiotherapy</td>\n",
       "      <td>S</td>\n",
       "      <td>F</td>\n",
       "      <td>2.0</td>\n",
       "      <td>31397</td>\n",
       "      <td>7.0</td>\n",
       "      <td>Trauma</td>\n",
       "      <td>Extreme</td>\n",
       "      <td>2</td>\n",
       "      <td>51-60</td>\n",
       "      <td>5954.0</td>\n",
       "      <td>41-50</td>\n",
       "    </tr>\n",
       "    <tr>\n",
       "      <th>2</th>\n",
       "      <td>3</td>\n",
       "      <td>10</td>\n",
       "      <td>e</td>\n",
       "      <td>1</td>\n",
       "      <td>X</td>\n",
       "      <td>2</td>\n",
       "      <td>anesthesia</td>\n",
       "      <td>S</td>\n",
       "      <td>E</td>\n",
       "      <td>2.0</td>\n",
       "      <td>31397</td>\n",
       "      <td>7.0</td>\n",
       "      <td>Trauma</td>\n",
       "      <td>Extreme</td>\n",
       "      <td>2</td>\n",
       "      <td>51-60</td>\n",
       "      <td>4745.0</td>\n",
       "      <td>31-40</td>\n",
       "    </tr>\n",
       "    <tr>\n",
       "      <th>3</th>\n",
       "      <td>4</td>\n",
       "      <td>26</td>\n",
       "      <td>b</td>\n",
       "      <td>2</td>\n",
       "      <td>Y</td>\n",
       "      <td>2</td>\n",
       "      <td>radiotherapy</td>\n",
       "      <td>R</td>\n",
       "      <td>D</td>\n",
       "      <td>2.0</td>\n",
       "      <td>31397</td>\n",
       "      <td>7.0</td>\n",
       "      <td>Trauma</td>\n",
       "      <td>Extreme</td>\n",
       "      <td>2</td>\n",
       "      <td>51-60</td>\n",
       "      <td>7272.0</td>\n",
       "      <td>41-50</td>\n",
       "    </tr>\n",
       "    <tr>\n",
       "      <th>4</th>\n",
       "      <td>5</td>\n",
       "      <td>26</td>\n",
       "      <td>b</td>\n",
       "      <td>2</td>\n",
       "      <td>Y</td>\n",
       "      <td>2</td>\n",
       "      <td>radiotherapy</td>\n",
       "      <td>S</td>\n",
       "      <td>D</td>\n",
       "      <td>2.0</td>\n",
       "      <td>31397</td>\n",
       "      <td>7.0</td>\n",
       "      <td>Trauma</td>\n",
       "      <td>Extreme</td>\n",
       "      <td>2</td>\n",
       "      <td>51-60</td>\n",
       "      <td>5558.0</td>\n",
       "      <td>41-50</td>\n",
       "    </tr>\n",
       "  </tbody>\n",
       "</table>\n",
       "</div>"
      ],
      "text/plain": [
       "   case_id  Hospital_code Hospital_type_code  City_Code_Hospital  \\\n",
       "0        1              8                  c                   3   \n",
       "1        2              2                  c                   5   \n",
       "2        3             10                  e                   1   \n",
       "3        4             26                  b                   2   \n",
       "4        5             26                  b                   2   \n",
       "\n",
       "  Hospital_region_code  Available Extra Rooms in Hospital    Department  \\\n",
       "0                    Z                                  3  radiotherapy   \n",
       "1                    Z                                  2  radiotherapy   \n",
       "2                    X                                  2    anesthesia   \n",
       "3                    Y                                  2  radiotherapy   \n",
       "4                    Y                                  2  radiotherapy   \n",
       "\n",
       "  Ward_Type Ward_Facility_Code  Bed Grade  patientid  City_Code_Patient  \\\n",
       "0         R                  F        2.0      31397                7.0   \n",
       "1         S                  F        2.0      31397                7.0   \n",
       "2         S                  E        2.0      31397                7.0   \n",
       "3         R                  D        2.0      31397                7.0   \n",
       "4         S                  D        2.0      31397                7.0   \n",
       "\n",
       "  Type of Admission Severity of Illness  Visitors with Patient    Age  \\\n",
       "0         Emergency             Extreme                      2  51-60   \n",
       "1            Trauma             Extreme                      2  51-60   \n",
       "2            Trauma             Extreme                      2  51-60   \n",
       "3            Trauma             Extreme                      2  51-60   \n",
       "4            Trauma             Extreme                      2  51-60   \n",
       "\n",
       "   Admission_Deposit   Stay  \n",
       "0             4911.0   0-10  \n",
       "1             5954.0  41-50  \n",
       "2             4745.0  31-40  \n",
       "3             7272.0  41-50  \n",
       "4             5558.0  41-50  "
      ]
     },
     "execution_count": 3,
     "metadata": {},
     "output_type": "execute_result"
    }
   ],
   "source": [
    "train.head()"
   ]
  },
  {
   "cell_type": "code",
   "execution_count": 4,
   "metadata": {},
   "outputs": [
    {
     "data": {
      "text/plain": [
       "array(['0-10', '41-50', '31-40', '11-20', '51-60', '21-30', '71-80',\n",
       "       'More than 100 Days', '81-90', '61-70', '91-100'], dtype=object)"
      ]
     },
     "execution_count": 4,
     "metadata": {},
     "output_type": "execute_result"
    }
   ],
   "source": [
    "train.Stay.unique()"
   ]
  },
  {
   "cell_type": "code",
   "execution_count": 5,
   "metadata": {},
   "outputs": [
    {
     "data": {
      "text/plain": [
       "case_id                                 0\n",
       "Hospital_code                           0\n",
       "Hospital_type_code                      0\n",
       "City_Code_Hospital                      0\n",
       "Hospital_region_code                    0\n",
       "Available Extra Rooms in Hospital       0\n",
       "Department                              0\n",
       "Ward_Type                               0\n",
       "Ward_Facility_Code                      0\n",
       "Bed Grade                             113\n",
       "patientid                               0\n",
       "City_Code_Patient                    4532\n",
       "Type of Admission                       0\n",
       "Severity of Illness                     0\n",
       "Visitors with Patient                   0\n",
       "Age                                     0\n",
       "Admission_Deposit                       0\n",
       "Stay                                    0\n",
       "dtype: int64"
      ]
     },
     "execution_count": 5,
     "metadata": {},
     "output_type": "execute_result"
    }
   ],
   "source": [
    "train.isna().sum()"
   ]
  },
  {
   "cell_type": "code",
   "execution_count": 6,
   "metadata": {},
   "outputs": [],
   "source": [
    "train['Bed Grade'].fillna(statistics.mode(train['Bed Grade']),inplace=True)\r\n",
    "train['City_Code_Patient'].fillna(statistics.mode(train['City_Code_Patient']),inplace=True)"
   ]
  },
  {
   "cell_type": "code",
   "execution_count": 7,
   "metadata": {},
   "outputs": [],
   "source": [
    "train.drop(['case_id', 'patientid', 'Ward_Type', 'Available Extra Rooms in Hospital', 'Bed Grade', 'City_Code_Patient'], axis=1, inplace=True)"
   ]
  },
  {
   "cell_type": "code",
   "execution_count": 8,
   "metadata": {},
   "outputs": [
    {
     "data": {
      "text/html": [
       "<div>\n",
       "<style scoped>\n",
       "    .dataframe tbody tr th:only-of-type {\n",
       "        vertical-align: middle;\n",
       "    }\n",
       "\n",
       "    .dataframe tbody tr th {\n",
       "        vertical-align: top;\n",
       "    }\n",
       "\n",
       "    .dataframe thead th {\n",
       "        text-align: right;\n",
       "    }\n",
       "</style>\n",
       "<table border=\"1\" class=\"dataframe\">\n",
       "  <thead>\n",
       "    <tr style=\"text-align: right;\">\n",
       "      <th></th>\n",
       "      <th>Hospital_code</th>\n",
       "      <th>Hospital_type_code</th>\n",
       "      <th>City_Code_Hospital</th>\n",
       "      <th>Hospital_region_code</th>\n",
       "      <th>Department</th>\n",
       "      <th>Ward_Facility_Code</th>\n",
       "      <th>Type of Admission</th>\n",
       "      <th>Severity of Illness</th>\n",
       "      <th>Visitors with Patient</th>\n",
       "      <th>Age</th>\n",
       "      <th>Admission_Deposit</th>\n",
       "      <th>Stay</th>\n",
       "    </tr>\n",
       "  </thead>\n",
       "  <tbody>\n",
       "    <tr>\n",
       "      <th>0</th>\n",
       "      <td>8</td>\n",
       "      <td>c</td>\n",
       "      <td>3</td>\n",
       "      <td>Z</td>\n",
       "      <td>radiotherapy</td>\n",
       "      <td>F</td>\n",
       "      <td>Emergency</td>\n",
       "      <td>Extreme</td>\n",
       "      <td>2</td>\n",
       "      <td>51-60</td>\n",
       "      <td>4911.0</td>\n",
       "      <td>0-10</td>\n",
       "    </tr>\n",
       "    <tr>\n",
       "      <th>1</th>\n",
       "      <td>2</td>\n",
       "      <td>c</td>\n",
       "      <td>5</td>\n",
       "      <td>Z</td>\n",
       "      <td>radiotherapy</td>\n",
       "      <td>F</td>\n",
       "      <td>Trauma</td>\n",
       "      <td>Extreme</td>\n",
       "      <td>2</td>\n",
       "      <td>51-60</td>\n",
       "      <td>5954.0</td>\n",
       "      <td>41-50</td>\n",
       "    </tr>\n",
       "    <tr>\n",
       "      <th>2</th>\n",
       "      <td>10</td>\n",
       "      <td>e</td>\n",
       "      <td>1</td>\n",
       "      <td>X</td>\n",
       "      <td>anesthesia</td>\n",
       "      <td>E</td>\n",
       "      <td>Trauma</td>\n",
       "      <td>Extreme</td>\n",
       "      <td>2</td>\n",
       "      <td>51-60</td>\n",
       "      <td>4745.0</td>\n",
       "      <td>31-40</td>\n",
       "    </tr>\n",
       "    <tr>\n",
       "      <th>3</th>\n",
       "      <td>26</td>\n",
       "      <td>b</td>\n",
       "      <td>2</td>\n",
       "      <td>Y</td>\n",
       "      <td>radiotherapy</td>\n",
       "      <td>D</td>\n",
       "      <td>Trauma</td>\n",
       "      <td>Extreme</td>\n",
       "      <td>2</td>\n",
       "      <td>51-60</td>\n",
       "      <td>7272.0</td>\n",
       "      <td>41-50</td>\n",
       "    </tr>\n",
       "    <tr>\n",
       "      <th>4</th>\n",
       "      <td>26</td>\n",
       "      <td>b</td>\n",
       "      <td>2</td>\n",
       "      <td>Y</td>\n",
       "      <td>radiotherapy</td>\n",
       "      <td>D</td>\n",
       "      <td>Trauma</td>\n",
       "      <td>Extreme</td>\n",
       "      <td>2</td>\n",
       "      <td>51-60</td>\n",
       "      <td>5558.0</td>\n",
       "      <td>41-50</td>\n",
       "    </tr>\n",
       "  </tbody>\n",
       "</table>\n",
       "</div>"
      ],
      "text/plain": [
       "   Hospital_code Hospital_type_code  City_Code_Hospital Hospital_region_code  \\\n",
       "0              8                  c                   3                    Z   \n",
       "1              2                  c                   5                    Z   \n",
       "2             10                  e                   1                    X   \n",
       "3             26                  b                   2                    Y   \n",
       "4             26                  b                   2                    Y   \n",
       "\n",
       "     Department Ward_Facility_Code Type of Admission Severity of Illness  \\\n",
       "0  radiotherapy                  F         Emergency             Extreme   \n",
       "1  radiotherapy                  F            Trauma             Extreme   \n",
       "2    anesthesia                  E            Trauma             Extreme   \n",
       "3  radiotherapy                  D            Trauma             Extreme   \n",
       "4  radiotherapy                  D            Trauma             Extreme   \n",
       "\n",
       "   Visitors with Patient    Age  Admission_Deposit   Stay  \n",
       "0                      2  51-60             4911.0   0-10  \n",
       "1                      2  51-60             5954.0  41-50  \n",
       "2                      2  51-60             4745.0  31-40  \n",
       "3                      2  51-60             7272.0  41-50  \n",
       "4                      2  51-60             5558.0  41-50  "
      ]
     },
     "execution_count": 8,
     "metadata": {},
     "output_type": "execute_result"
    }
   ],
   "source": [
    "train.head()"
   ]
  },
  {
   "cell_type": "markdown",
   "metadata": {},
   "source": [
    "### Convert Healthcare data to numerical format"
   ]
  },
  {
   "cell_type": "code",
   "execution_count": null,
   "metadata": {},
   "outputs": [],
   "source": [
    "# def Convert_to_Num(df):\r\n",
    "#     dept_lst = df[\"Department\"].unique()\r\n",
    "#     dept_lst.sort()\r\n",
    "#     dept_dict = dict(zip(dept_lst, range(len(dept_lst))))\r\n",
    "#     df.Department.replace(dept_dict, inplace=True)\r\n",
    "#     print(dept_dict)\r\n",
    "    \r\n",
    "#     HRC_lst = df[\"Hospital_region_code\"].unique()\r\n",
    "#     HRC_lst.sort()\r\n",
    "#     HRC_dict = dict(zip(HRC_lst, range(len(HRC_lst))))\r\n",
    "#     df.Hospital_region_code.replace(HRC_dict, inplace=True)\r\n",
    "#     print(HRC_dict)\r\n",
    "    \r\n",
    "#     ward_lst = df[\"Ward_Type\"].unique()\r\n",
    "#     ward_lst.sort()\r\n",
    "#     ward_dict = dict(zip(ward_lst, range(len(ward_lst))))\r\n",
    "#     df.Ward_Type.replace(ward_dict, inplace=True)\r\n",
    "#     print(ward_dict)\r\n",
    "    \r\n",
    "#     WFC_lst = df[\"Ward_Facility_Code\"].unique()\r\n",
    "#     WFC_lst.sort()\r\n",
    "#     WFC_dict = dict(zip(WFC_lst, range(len(WFC_lst))))\r\n",
    "#     df.Ward_Facility_Code.replace(WFC_dict, inplace=True)\r\n",
    "#     print(WFC_dict)\r\n",
    "    \r\n",
    "#     TOA_lst = df[\"Type of Admission\"].unique()\r\n",
    "#     TOA_lst.sort()\r\n",
    "#     TOA_dict = dict(zip(TOA_lst, range(len(TOA_lst))))\r\n",
    "#     df[\"Type of Admission\"].replace(TOA_dict, inplace=True)\r\n",
    "#     print(TOA_dict)\r\n",
    "   \r\n",
    "#     SOI_lst = df[\"Severity of Illness\"].unique()\r\n",
    "#     SOI_lst.sort()\r\n",
    "#     SOI_dict = dict(zip(SOI_lst, range(len(SOI_lst))))\r\n",
    "#     df[\"Severity of Illness\"].replace(SOI_dict, inplace=True)\r\n",
    "#     print(SOI_dict)\r\n",
    "    \r\n",
    "#     age_lst = df[\"Age\"].unique()\r\n",
    "#     age_lst.sort()\r\n",
    "#     age_dict = dict(zip(age_lst, range(len(age_lst))))\r\n",
    "#     df[\"Age\"].replace(age_dict, inplace=True)\r\n",
    "#     print(age_dict)\r\n",
    "    \r\n",
    "#     HTC_lst = df[\"Hospital_type_code\"].unique()\r\n",
    "#     HTC_lst.sort()\r\n",
    "#     HTC_dict = dict(zip(HTC_lst, range(len(HTC_lst))))\r\n",
    "#     df[\"Hospital_type_code\"].replace(HTC_dict, inplace=True)\r\n",
    "#     print(HTC_dict)\r\n",
    "    \r\n",
    "# Convert_to_Num(train)\r\n",
    "# stay_list = train[\"Stay\"].unique()\r\n",
    "# stay_list.sort()\r\n",
    "# dept_Stay = dict(zip(stay_list, range(len(stay_list))))\r\n",
    "# train[\"Stay\"].replace(dept_Stay, inplace=True)\r\n",
    "# print(dept_Stay)"
   ]
  },
  {
   "cell_type": "code",
   "execution_count": 12,
   "metadata": {},
   "outputs": [
    {
     "name": "stdout",
     "output_type": "stream",
     "text": [
      "['Hospital_type_code', 'Hospital_region_code', 'Department', 'Ward_Facility_Code', 'Type of Admission', 'Severity of Illness', 'Age', 'Stay']\n",
      "['Hospital_code', 'City_Code_Hospital', 'Visitors with Patient', 'Admission_Deposit']\n"
     ]
    }
   ],
   "source": [
    "cat_cols=[]\r\n",
    "num_cols=[]\r\n",
    "for col in train.columns:\r\n",
    "    if train[col].dtypes=='object':\r\n",
    "        cat_cols.append(col)\r\n",
    "for col in train.columns:\r\n",
    "    if train[col].dtypes!='object':\r\n",
    "        num_cols.append(col)\r\n",
    "print(cat_cols)\r\n",
    "print(num_cols)"
   ]
  },
  {
   "cell_type": "code",
   "execution_count": 13,
   "metadata": {},
   "outputs": [],
   "source": [
    "cat_cols.remove('Stay')"
   ]
  },
  {
   "cell_type": "code",
   "execution_count": 11,
   "metadata": {},
   "outputs": [
    {
     "data": {
      "text/html": [
       "<div>\n",
       "<style scoped>\n",
       "    .dataframe tbody tr th:only-of-type {\n",
       "        vertical-align: middle;\n",
       "    }\n",
       "\n",
       "    .dataframe tbody tr th {\n",
       "        vertical-align: top;\n",
       "    }\n",
       "\n",
       "    .dataframe thead th {\n",
       "        text-align: right;\n",
       "    }\n",
       "</style>\n",
       "<table border=\"1\" class=\"dataframe\">\n",
       "  <thead>\n",
       "    <tr style=\"text-align: right;\">\n",
       "      <th></th>\n",
       "      <th>Hospital_code</th>\n",
       "      <th>Hospital_type_code</th>\n",
       "      <th>City_Code_Hospital</th>\n",
       "      <th>Hospital_region_code</th>\n",
       "      <th>Department</th>\n",
       "      <th>Ward_Facility_Code</th>\n",
       "      <th>Type of Admission</th>\n",
       "      <th>Severity of Illness</th>\n",
       "      <th>Visitors with Patient</th>\n",
       "      <th>Age</th>\n",
       "      <th>Admission_Deposit</th>\n",
       "      <th>Stay</th>\n",
       "    </tr>\n",
       "  </thead>\n",
       "  <tbody>\n",
       "    <tr>\n",
       "      <th>0</th>\n",
       "      <td>8</td>\n",
       "      <td>c</td>\n",
       "      <td>3</td>\n",
       "      <td>Z</td>\n",
       "      <td>radiotherapy</td>\n",
       "      <td>F</td>\n",
       "      <td>Emergency</td>\n",
       "      <td>Extreme</td>\n",
       "      <td>2</td>\n",
       "      <td>51-60</td>\n",
       "      <td>4911.0</td>\n",
       "      <td>0-10</td>\n",
       "    </tr>\n",
       "    <tr>\n",
       "      <th>1</th>\n",
       "      <td>2</td>\n",
       "      <td>c</td>\n",
       "      <td>5</td>\n",
       "      <td>Z</td>\n",
       "      <td>radiotherapy</td>\n",
       "      <td>F</td>\n",
       "      <td>Trauma</td>\n",
       "      <td>Extreme</td>\n",
       "      <td>2</td>\n",
       "      <td>51-60</td>\n",
       "      <td>5954.0</td>\n",
       "      <td>41-50</td>\n",
       "    </tr>\n",
       "    <tr>\n",
       "      <th>2</th>\n",
       "      <td>10</td>\n",
       "      <td>e</td>\n",
       "      <td>1</td>\n",
       "      <td>X</td>\n",
       "      <td>anesthesia</td>\n",
       "      <td>E</td>\n",
       "      <td>Trauma</td>\n",
       "      <td>Extreme</td>\n",
       "      <td>2</td>\n",
       "      <td>51-60</td>\n",
       "      <td>4745.0</td>\n",
       "      <td>31-40</td>\n",
       "    </tr>\n",
       "    <tr>\n",
       "      <th>3</th>\n",
       "      <td>26</td>\n",
       "      <td>b</td>\n",
       "      <td>2</td>\n",
       "      <td>Y</td>\n",
       "      <td>radiotherapy</td>\n",
       "      <td>D</td>\n",
       "      <td>Trauma</td>\n",
       "      <td>Extreme</td>\n",
       "      <td>2</td>\n",
       "      <td>51-60</td>\n",
       "      <td>7272.0</td>\n",
       "      <td>41-50</td>\n",
       "    </tr>\n",
       "    <tr>\n",
       "      <th>4</th>\n",
       "      <td>26</td>\n",
       "      <td>b</td>\n",
       "      <td>2</td>\n",
       "      <td>Y</td>\n",
       "      <td>radiotherapy</td>\n",
       "      <td>D</td>\n",
       "      <td>Trauma</td>\n",
       "      <td>Extreme</td>\n",
       "      <td>2</td>\n",
       "      <td>51-60</td>\n",
       "      <td>5558.0</td>\n",
       "      <td>41-50</td>\n",
       "    </tr>\n",
       "  </tbody>\n",
       "</table>\n",
       "</div>"
      ],
      "text/plain": [
       "   Hospital_code Hospital_type_code  City_Code_Hospital Hospital_region_code  \\\n",
       "0              8                  c                   3                    Z   \n",
       "1              2                  c                   5                    Z   \n",
       "2             10                  e                   1                    X   \n",
       "3             26                  b                   2                    Y   \n",
       "4             26                  b                   2                    Y   \n",
       "\n",
       "     Department Ward_Facility_Code Type of Admission Severity of Illness  \\\n",
       "0  radiotherapy                  F         Emergency             Extreme   \n",
       "1  radiotherapy                  F            Trauma             Extreme   \n",
       "2    anesthesia                  E            Trauma             Extreme   \n",
       "3  radiotherapy                  D            Trauma             Extreme   \n",
       "4  radiotherapy                  D            Trauma             Extreme   \n",
       "\n",
       "   Visitors with Patient    Age  Admission_Deposit   Stay  \n",
       "0                      2  51-60             4911.0   0-10  \n",
       "1                      2  51-60             5954.0  41-50  \n",
       "2                      2  51-60             4745.0  31-40  \n",
       "3                      2  51-60             7272.0  41-50  \n",
       "4                      2  51-60             5558.0  41-50  "
      ]
     },
     "execution_count": 11,
     "metadata": {},
     "output_type": "execute_result"
    }
   ],
   "source": [
    "train.head()"
   ]
  },
  {
   "cell_type": "code",
   "execution_count": 14,
   "metadata": {},
   "outputs": [
    {
     "data": {
      "text/plain": [
       "0    2\n",
       "1    4\n",
       "2    0\n",
       "3    1\n",
       "4    1\n",
       "Name: City_Code_Hospital, dtype: int64"
      ]
     },
     "execution_count": 14,
     "metadata": {},
     "output_type": "execute_result"
    }
   ],
   "source": [
    "from sklearn.preprocessing import LabelEncoder\r\n",
    "le= LabelEncoder()\r\n",
    "cat_cols.append('City_Code_Hospital')\r\n",
    "for col in cat_cols:\r\n",
    "    train[col]= le.fit_transform(train[col])"
   ]
  },
  {
   "cell_type": "code",
   "execution_count": 18,
   "metadata": {},
   "outputs": [
    {
     "data": {
      "text/plain": [
       "['le_encoder_stay.bin']"
      ]
     },
     "execution_count": 18,
     "metadata": {},
     "output_type": "execute_result"
    }
   ],
   "source": [
    "from joblib import dump\r\n",
    "dump(le, 'le_encoder_stay.bin')"
   ]
  },
  {
   "cell_type": "code",
   "execution_count": 17,
   "metadata": {},
   "outputs": [
    {
     "data": {
      "text/plain": [
       "['Hospital_type_code',\n",
       " 'Hospital_region_code',\n",
       " 'Department',\n",
       " 'Ward_Facility_Code',\n",
       " 'Type of Admission',\n",
       " 'Severity of Illness',\n",
       " 'Age',\n",
       " 'City_Code_Hospital']"
      ]
     },
     "execution_count": 17,
     "metadata": {},
     "output_type": "execute_result"
    }
   ],
   "source": [
    "cat_cols"
   ]
  },
  {
   "cell_type": "code",
   "execution_count": 19,
   "metadata": {},
   "outputs": [
    {
     "data": {
      "text/html": [
       "<div>\n",
       "<style scoped>\n",
       "    .dataframe tbody tr th:only-of-type {\n",
       "        vertical-align: middle;\n",
       "    }\n",
       "\n",
       "    .dataframe tbody tr th {\n",
       "        vertical-align: top;\n",
       "    }\n",
       "\n",
       "    .dataframe thead th {\n",
       "        text-align: right;\n",
       "    }\n",
       "</style>\n",
       "<table border=\"1\" class=\"dataframe\">\n",
       "  <thead>\n",
       "    <tr style=\"text-align: right;\">\n",
       "      <th></th>\n",
       "      <th>Hospital_type_code</th>\n",
       "      <th>Hospital_region_code</th>\n",
       "      <th>Department</th>\n",
       "      <th>Ward_Facility_Code</th>\n",
       "      <th>Type of Admission</th>\n",
       "      <th>Severity of Illness</th>\n",
       "      <th>Age</th>\n",
       "      <th>City_Code_Hospital</th>\n",
       "    </tr>\n",
       "  </thead>\n",
       "  <tbody>\n",
       "    <tr>\n",
       "      <th>0</th>\n",
       "      <td>2</td>\n",
       "      <td>2</td>\n",
       "      <td>3</td>\n",
       "      <td>5</td>\n",
       "      <td>0</td>\n",
       "      <td>0</td>\n",
       "      <td>5</td>\n",
       "      <td>2</td>\n",
       "    </tr>\n",
       "    <tr>\n",
       "      <th>1</th>\n",
       "      <td>2</td>\n",
       "      <td>2</td>\n",
       "      <td>3</td>\n",
       "      <td>5</td>\n",
       "      <td>1</td>\n",
       "      <td>0</td>\n",
       "      <td>5</td>\n",
       "      <td>4</td>\n",
       "    </tr>\n",
       "    <tr>\n",
       "      <th>2</th>\n",
       "      <td>4</td>\n",
       "      <td>0</td>\n",
       "      <td>1</td>\n",
       "      <td>4</td>\n",
       "      <td>1</td>\n",
       "      <td>0</td>\n",
       "      <td>5</td>\n",
       "      <td>0</td>\n",
       "    </tr>\n",
       "    <tr>\n",
       "      <th>3</th>\n",
       "      <td>1</td>\n",
       "      <td>1</td>\n",
       "      <td>3</td>\n",
       "      <td>3</td>\n",
       "      <td>1</td>\n",
       "      <td>0</td>\n",
       "      <td>5</td>\n",
       "      <td>1</td>\n",
       "    </tr>\n",
       "    <tr>\n",
       "      <th>4</th>\n",
       "      <td>1</td>\n",
       "      <td>1</td>\n",
       "      <td>3</td>\n",
       "      <td>3</td>\n",
       "      <td>1</td>\n",
       "      <td>0</td>\n",
       "      <td>5</td>\n",
       "      <td>1</td>\n",
       "    </tr>\n",
       "    <tr>\n",
       "      <th>...</th>\n",
       "      <td>...</td>\n",
       "      <td>...</td>\n",
       "      <td>...</td>\n",
       "      <td>...</td>\n",
       "      <td>...</td>\n",
       "      <td>...</td>\n",
       "      <td>...</td>\n",
       "      <td>...</td>\n",
       "    </tr>\n",
       "    <tr>\n",
       "      <th>318433</th>\n",
       "      <td>0</td>\n",
       "      <td>0</td>\n",
       "      <td>3</td>\n",
       "      <td>5</td>\n",
       "      <td>0</td>\n",
       "      <td>2</td>\n",
       "      <td>4</td>\n",
       "      <td>5</td>\n",
       "    </tr>\n",
       "    <tr>\n",
       "      <th>318434</th>\n",
       "      <td>0</td>\n",
       "      <td>0</td>\n",
       "      <td>1</td>\n",
       "      <td>4</td>\n",
       "      <td>2</td>\n",
       "      <td>2</td>\n",
       "      <td>8</td>\n",
       "      <td>0</td>\n",
       "    </tr>\n",
       "    <tr>\n",
       "      <th>318435</th>\n",
       "      <td>0</td>\n",
       "      <td>0</td>\n",
       "      <td>2</td>\n",
       "      <td>5</td>\n",
       "      <td>0</td>\n",
       "      <td>1</td>\n",
       "      <td>7</td>\n",
       "      <td>3</td>\n",
       "    </tr>\n",
       "    <tr>\n",
       "      <th>318436</th>\n",
       "      <td>1</td>\n",
       "      <td>1</td>\n",
       "      <td>1</td>\n",
       "      <td>3</td>\n",
       "      <td>1</td>\n",
       "      <td>1</td>\n",
       "      <td>1</td>\n",
       "      <td>1</td>\n",
       "    </tr>\n",
       "    <tr>\n",
       "      <th>318437</th>\n",
       "      <td>0</td>\n",
       "      <td>1</td>\n",
       "      <td>2</td>\n",
       "      <td>2</td>\n",
       "      <td>0</td>\n",
       "      <td>1</td>\n",
       "      <td>1</td>\n",
       "      <td>6</td>\n",
       "    </tr>\n",
       "  </tbody>\n",
       "</table>\n",
       "<p>318438 rows × 8 columns</p>\n",
       "</div>"
      ],
      "text/plain": [
       "        Hospital_type_code  Hospital_region_code  Department  \\\n",
       "0                        2                     2           3   \n",
       "1                        2                     2           3   \n",
       "2                        4                     0           1   \n",
       "3                        1                     1           3   \n",
       "4                        1                     1           3   \n",
       "...                    ...                   ...         ...   \n",
       "318433                   0                     0           3   \n",
       "318434                   0                     0           1   \n",
       "318435                   0                     0           2   \n",
       "318436                   1                     1           1   \n",
       "318437                   0                     1           2   \n",
       "\n",
       "        Ward_Facility_Code  Type of Admission  Severity of Illness  Age  \\\n",
       "0                        5                  0                    0    5   \n",
       "1                        5                  1                    0    5   \n",
       "2                        4                  1                    0    5   \n",
       "3                        3                  1                    0    5   \n",
       "4                        3                  1                    0    5   \n",
       "...                    ...                ...                  ...  ...   \n",
       "318433                   5                  0                    2    4   \n",
       "318434                   4                  2                    2    8   \n",
       "318435                   5                  0                    1    7   \n",
       "318436                   3                  1                    1    1   \n",
       "318437                   2                  0                    1    1   \n",
       "\n",
       "        City_Code_Hospital  \n",
       "0                        2  \n",
       "1                        4  \n",
       "2                        0  \n",
       "3                        1  \n",
       "4                        1  \n",
       "...                    ...  \n",
       "318433                   5  \n",
       "318434                   0  \n",
       "318435                   3  \n",
       "318436                   1  \n",
       "318437                   6  \n",
       "\n",
       "[318438 rows x 8 columns]"
      ]
     },
     "execution_count": 19,
     "metadata": {},
     "output_type": "execute_result"
    }
   ],
   "source": [
    "train[cat_cols]"
   ]
  },
  {
   "cell_type": "code",
   "execution_count": 20,
   "metadata": {},
   "outputs": [
    {
     "data": {
      "text/plain": [
       "0     55351\n",
       "1     51809\n",
       "5     46991\n",
       "6     35463\n",
       "2     31569\n",
       "4     31105\n",
       "7     26277\n",
       "9     17137\n",
       "3     13857\n",
       "8      5249\n",
       "10     3630\n",
       "Name: City_Code_Hospital, dtype: int64"
      ]
     },
     "execution_count": 20,
     "metadata": {},
     "output_type": "execute_result"
    }
   ],
   "source": [
    "train['City_Code_Hospital'].value_counts()"
   ]
  },
  {
   "cell_type": "code",
   "execution_count": 21,
   "metadata": {},
   "outputs": [
    {
     "data": {
      "text/plain": [
       "['Hospital_code',\n",
       " 'City_Code_Hospital',\n",
       " 'Visitors with Patient',\n",
       " 'Admission_Deposit']"
      ]
     },
     "execution_count": 21,
     "metadata": {},
     "output_type": "execute_result"
    }
   ],
   "source": [
    "num_cols"
   ]
  },
  {
   "cell_type": "code",
   "execution_count": 22,
   "metadata": {},
   "outputs": [
    {
     "data": {
      "text/plain": [
       "['Hospital_code', 'Visitors with Patient', 'Admission_Deposit']"
      ]
     },
     "execution_count": 22,
     "metadata": {},
     "output_type": "execute_result"
    }
   ],
   "source": [
    "num_cols.remove('City_Code_Hospital')\r\n",
    "num_cols"
   ]
  },
  {
   "cell_type": "code",
   "execution_count": 23,
   "metadata": {},
   "outputs": [],
   "source": [
    "from sklearn.preprocessing import StandardScaler\r\n",
    "ss= StandardScaler()\r\n",
    "train[num_cols]= ss.fit_transform(train[num_cols].values)"
   ]
  },
  {
   "cell_type": "code",
   "execution_count": 24,
   "metadata": {},
   "outputs": [
    {
     "data": {
      "text/plain": [
       "['std_scaler_stay.bin']"
      ]
     },
     "execution_count": 24,
     "metadata": {},
     "output_type": "execute_result"
    }
   ],
   "source": [
    "dump(ss, 'std_scaler_stay.bin')"
   ]
  },
  {
   "cell_type": "code",
   "execution_count": 25,
   "metadata": {},
   "outputs": [
    {
     "data": {
      "text/html": [
       "<div>\n",
       "<style scoped>\n",
       "    .dataframe tbody tr th:only-of-type {\n",
       "        vertical-align: middle;\n",
       "    }\n",
       "\n",
       "    .dataframe tbody tr th {\n",
       "        vertical-align: top;\n",
       "    }\n",
       "\n",
       "    .dataframe thead th {\n",
       "        text-align: right;\n",
       "    }\n",
       "</style>\n",
       "<table border=\"1\" class=\"dataframe\">\n",
       "  <thead>\n",
       "    <tr style=\"text-align: right;\">\n",
       "      <th></th>\n",
       "      <th>Hospital_code</th>\n",
       "      <th>Visitors with Patient</th>\n",
       "      <th>Admission_Deposit</th>\n",
       "    </tr>\n",
       "  </thead>\n",
       "  <tbody>\n",
       "    <tr>\n",
       "      <th>0</th>\n",
       "      <td>-1.195176</td>\n",
       "      <td>-0.727923</td>\n",
       "      <td>0.027835</td>\n",
       "    </tr>\n",
       "    <tr>\n",
       "      <th>1</th>\n",
       "      <td>-1.890124</td>\n",
       "      <td>-0.727923</td>\n",
       "      <td>0.987556</td>\n",
       "    </tr>\n",
       "    <tr>\n",
       "      <th>2</th>\n",
       "      <td>-0.963527</td>\n",
       "      <td>-0.727923</td>\n",
       "      <td>-0.124910</td>\n",
       "    </tr>\n",
       "    <tr>\n",
       "      <th>3</th>\n",
       "      <td>0.889668</td>\n",
       "      <td>-0.727923</td>\n",
       "      <td>2.200319</td>\n",
       "    </tr>\n",
       "    <tr>\n",
       "      <th>4</th>\n",
       "      <td>0.889668</td>\n",
       "      <td>-0.727923</td>\n",
       "      <td>0.623175</td>\n",
       "    </tr>\n",
       "  </tbody>\n",
       "</table>\n",
       "</div>"
      ],
      "text/plain": [
       "   Hospital_code  Visitors with Patient  Admission_Deposit\n",
       "0      -1.195176              -0.727923           0.027835\n",
       "1      -1.890124              -0.727923           0.987556\n",
       "2      -0.963527              -0.727923          -0.124910\n",
       "3       0.889668              -0.727923           2.200319\n",
       "4       0.889668              -0.727923           0.623175"
      ]
     },
     "execution_count": 25,
     "metadata": {},
     "output_type": "execute_result"
    }
   ],
   "source": [
    "train[num_cols].head(5)"
   ]
  },
  {
   "cell_type": "code",
   "execution_count": 27,
   "metadata": {},
   "outputs": [],
   "source": [
    "from sklearn.model_selection import train_test_split\r\n",
    "y= train[['Stay']]\r\n",
    "X= train.drop(['Stay'], axis=1)"
   ]
  },
  {
   "cell_type": "code",
   "execution_count": 29,
   "metadata": {},
   "outputs": [
    {
     "data": {
      "text/html": [
       "<div>\n",
       "<style scoped>\n",
       "    .dataframe tbody tr th:only-of-type {\n",
       "        vertical-align: middle;\n",
       "    }\n",
       "\n",
       "    .dataframe tbody tr th {\n",
       "        vertical-align: top;\n",
       "    }\n",
       "\n",
       "    .dataframe thead th {\n",
       "        text-align: right;\n",
       "    }\n",
       "</style>\n",
       "<table border=\"1\" class=\"dataframe\">\n",
       "  <thead>\n",
       "    <tr style=\"text-align: right;\">\n",
       "      <th></th>\n",
       "      <th>Stay</th>\n",
       "    </tr>\n",
       "  </thead>\n",
       "  <tbody>\n",
       "    <tr>\n",
       "      <th>0</th>\n",
       "      <td>0-10</td>\n",
       "    </tr>\n",
       "    <tr>\n",
       "      <th>1</th>\n",
       "      <td>41-50</td>\n",
       "    </tr>\n",
       "    <tr>\n",
       "      <th>2</th>\n",
       "      <td>31-40</td>\n",
       "    </tr>\n",
       "    <tr>\n",
       "      <th>3</th>\n",
       "      <td>41-50</td>\n",
       "    </tr>\n",
       "    <tr>\n",
       "      <th>4</th>\n",
       "      <td>41-50</td>\n",
       "    </tr>\n",
       "    <tr>\n",
       "      <th>...</th>\n",
       "      <td>...</td>\n",
       "    </tr>\n",
       "    <tr>\n",
       "      <th>318433</th>\n",
       "      <td>11-20</td>\n",
       "    </tr>\n",
       "    <tr>\n",
       "      <th>318434</th>\n",
       "      <td>31-40</td>\n",
       "    </tr>\n",
       "    <tr>\n",
       "      <th>318435</th>\n",
       "      <td>11-20</td>\n",
       "    </tr>\n",
       "    <tr>\n",
       "      <th>318436</th>\n",
       "      <td>11-20</td>\n",
       "    </tr>\n",
       "    <tr>\n",
       "      <th>318437</th>\n",
       "      <td>0-10</td>\n",
       "    </tr>\n",
       "  </tbody>\n",
       "</table>\n",
       "<p>318438 rows × 1 columns</p>\n",
       "</div>"
      ],
      "text/plain": [
       "         Stay\n",
       "0        0-10\n",
       "1       41-50\n",
       "2       31-40\n",
       "3       41-50\n",
       "4       41-50\n",
       "...       ...\n",
       "318433  11-20\n",
       "318434  31-40\n",
       "318435  11-20\n",
       "318436  11-20\n",
       "318437   0-10\n",
       "\n",
       "[318438 rows x 1 columns]"
      ]
     },
     "execution_count": 29,
     "metadata": {},
     "output_type": "execute_result"
    }
   ],
   "source": [
    "y"
   ]
  },
  {
   "cell_type": "code",
   "execution_count": 30,
   "metadata": {},
   "outputs": [],
   "source": [
    "X_train, X_test, y_train,y_test= train_test_split(X,y,test_size= 0.2, stratify=y, random_state=42)"
   ]
  },
  {
   "cell_type": "code",
   "execution_count": 31,
   "metadata": {},
   "outputs": [
    {
     "name": "stdout",
     "output_type": "stream",
     "text": [
      "The shape of X_Train - (254750, 11)\n",
      "The shape of X_test - (63688, 11)\n",
      "The shape of y_train - (254750, 1)\n",
      "The shape of y_test - (63688, 1)\n"
     ]
    }
   ],
   "source": [
    "print(f'The shape of X_Train - {X_train.shape}')\r\n",
    "print(f'The shape of X_test - {X_test.shape}')\r\n",
    "print(f'The shape of y_train - {y_train.shape}')\r\n",
    "print(f'The shape of y_test - {y_test.shape}')"
   ]
  },
  {
   "cell_type": "code",
   "execution_count": 33,
   "metadata": {},
   "outputs": [
    {
     "name": "stdout",
     "output_type": "stream",
     "text": [
      "0:\tlearn: 2.3528387\ttest: 2.3531159\tbest: 2.3531159 (0)\ttotal: 2.46s\tremaining: 6m 7s\n",
      "1:\tlearn: 2.3105546\ttest: 2.3110180\tbest: 2.3110180 (1)\ttotal: 4.2s\tremaining: 5m 10s\n",
      "2:\tlearn: 2.2726708\ttest: 2.2733645\tbest: 2.2733645 (2)\ttotal: 5.83s\tremaining: 4m 45s\n",
      "3:\tlearn: 2.2372694\ttest: 2.2380916\tbest: 2.2380916 (3)\ttotal: 7.73s\tremaining: 4m 42s\n",
      "4:\tlearn: 2.2054294\ttest: 2.2064687\tbest: 2.2064687 (4)\ttotal: 9.82s\tremaining: 4m 44s\n",
      "5:\tlearn: 2.1758768\ttest: 2.1770955\tbest: 2.1770955 (5)\ttotal: 11.6s\tremaining: 4m 37s\n",
      "6:\tlearn: 2.1486744\ttest: 2.1501153\tbest: 2.1501153 (6)\ttotal: 13.4s\tremaining: 4m 33s\n",
      "7:\tlearn: 2.1230370\ttest: 2.1246742\tbest: 2.1246742 (7)\ttotal: 15.1s\tremaining: 4m 28s\n",
      "8:\tlearn: 2.1004363\ttest: 2.1020970\tbest: 2.1020970 (8)\ttotal: 15.7s\tremaining: 4m 6s\n",
      "9:\tlearn: 2.0775655\ttest: 2.0794465\tbest: 2.0794465 (9)\ttotal: 17.8s\tremaining: 4m 9s\n",
      "10:\tlearn: 2.0566048\ttest: 2.0586753\tbest: 2.0586753 (10)\ttotal: 19.6s\tremaining: 4m 7s\n",
      "11:\tlearn: 2.0367504\ttest: 2.0390984\tbest: 2.0390984 (11)\ttotal: 21.5s\tremaining: 4m 7s\n",
      "12:\tlearn: 2.0183869\ttest: 2.0209222\tbest: 2.0209222 (12)\ttotal: 23.5s\tremaining: 4m 7s\n",
      "13:\tlearn: 2.0005428\ttest: 2.0032466\tbest: 2.0032466 (13)\ttotal: 25.3s\tremaining: 4m 5s\n",
      "14:\tlearn: 1.9844608\ttest: 1.9873291\tbest: 1.9873291 (14)\ttotal: 26.9s\tremaining: 4m 2s\n",
      "15:\tlearn: 1.9693892\ttest: 1.9725562\tbest: 1.9725562 (15)\ttotal: 28.7s\tremaining: 4m\n",
      "16:\tlearn: 1.9548263\ttest: 1.9581675\tbest: 1.9581675 (16)\ttotal: 30.6s\tremaining: 3m 59s\n",
      "17:\tlearn: 1.9409955\ttest: 1.9444858\tbest: 1.9444858 (17)\ttotal: 32.2s\tremaining: 3m 56s\n",
      "18:\tlearn: 1.9279181\ttest: 1.9315898\tbest: 1.9315898 (18)\ttotal: 33.7s\tremaining: 3m 52s\n",
      "19:\tlearn: 1.9154409\ttest: 1.9193019\tbest: 1.9193019 (19)\ttotal: 35.4s\tremaining: 3m 50s\n",
      "20:\tlearn: 1.9034978\ttest: 1.9075153\tbest: 1.9075153 (20)\ttotal: 37s\tremaining: 3m 47s\n",
      "21:\tlearn: 1.8925522\ttest: 1.8966455\tbest: 1.8966455 (21)\ttotal: 38.4s\tremaining: 3m 43s\n",
      "22:\tlearn: 1.8823633\ttest: 1.8866736\tbest: 1.8866736 (22)\ttotal: 39.9s\tremaining: 3m 40s\n",
      "23:\tlearn: 1.8723058\ttest: 1.8767867\tbest: 1.8767867 (23)\ttotal: 41.4s\tremaining: 3m 37s\n",
      "24:\tlearn: 1.8626462\ttest: 1.8672684\tbest: 1.8672684 (24)\ttotal: 43s\tremaining: 3m 34s\n",
      "25:\tlearn: 1.8533060\ttest: 1.8581192\tbest: 1.8581192 (25)\ttotal: 44.6s\tremaining: 3m 32s\n",
      "26:\tlearn: 1.8446046\ttest: 1.8495216\tbest: 1.8495216 (26)\ttotal: 46.1s\tremaining: 3m 29s\n",
      "27:\tlearn: 1.8364117\ttest: 1.8413860\tbest: 1.8413860 (27)\ttotal: 47.6s\tremaining: 3m 27s\n",
      "28:\tlearn: 1.8284303\ttest: 1.8335385\tbest: 1.8335385 (28)\ttotal: 49s\tremaining: 3m 24s\n",
      "29:\tlearn: 1.8207499\ttest: 1.8259972\tbest: 1.8259972 (29)\ttotal: 50.5s\tremaining: 3m 21s\n",
      "30:\tlearn: 1.8133022\ttest: 1.8186849\tbest: 1.8186849 (30)\ttotal: 52.2s\tremaining: 3m 20s\n",
      "31:\tlearn: 1.8063033\ttest: 1.8117530\tbest: 1.8117530 (31)\ttotal: 53.6s\tremaining: 3m 17s\n",
      "32:\tlearn: 1.7992499\ttest: 1.8047773\tbest: 1.8047773 (32)\ttotal: 55.1s\tremaining: 3m 15s\n",
      "33:\tlearn: 1.7929384\ttest: 1.7985623\tbest: 1.7985623 (33)\ttotal: 56.5s\tremaining: 3m 12s\n",
      "34:\tlearn: 1.7867670\ttest: 1.7925400\tbest: 1.7925400 (34)\ttotal: 58.2s\tremaining: 3m 11s\n",
      "35:\tlearn: 1.7809039\ttest: 1.7868108\tbest: 1.7868108 (35)\ttotal: 59.7s\tremaining: 3m 8s\n",
      "36:\tlearn: 1.7752859\ttest: 1.7813157\tbest: 1.7813157 (36)\ttotal: 1m 1s\tremaining: 3m 7s\n",
      "37:\tlearn: 1.7699608\ttest: 1.7762051\tbest: 1.7762051 (37)\ttotal: 1m 3s\tremaining: 3m 5s\n",
      "38:\tlearn: 1.7647548\ttest: 1.7710529\tbest: 1.7710529 (38)\ttotal: 1m 4s\tremaining: 3m 3s\n",
      "39:\tlearn: 1.7596207\ttest: 1.7659976\tbest: 1.7659976 (39)\ttotal: 1m 5s\tremaining: 3m 1s\n",
      "40:\tlearn: 1.7548007\ttest: 1.7612939\tbest: 1.7612939 (40)\ttotal: 1m 7s\tremaining: 2m 58s\n",
      "41:\tlearn: 1.7501430\ttest: 1.7567309\tbest: 1.7567309 (41)\ttotal: 1m 8s\tremaining: 2m 56s\n",
      "42:\tlearn: 1.7455626\ttest: 1.7522956\tbest: 1.7522956 (42)\ttotal: 1m 10s\tremaining: 2m 54s\n",
      "43:\tlearn: 1.7413933\ttest: 1.7482289\tbest: 1.7482289 (43)\ttotal: 1m 11s\tremaining: 2m 52s\n",
      "44:\tlearn: 1.7372631\ttest: 1.7442753\tbest: 1.7442753 (44)\ttotal: 1m 12s\tremaining: 2m 50s\n",
      "45:\tlearn: 1.7333357\ttest: 1.7405227\tbest: 1.7405227 (45)\ttotal: 1m 14s\tremaining: 2m 48s\n",
      "46:\tlearn: 1.7294357\ttest: 1.7367862\tbest: 1.7367862 (46)\ttotal: 1m 15s\tremaining: 2m 46s\n",
      "47:\tlearn: 1.7258140\ttest: 1.7333639\tbest: 1.7333639 (47)\ttotal: 1m 17s\tremaining: 2m 44s\n",
      "48:\tlearn: 1.7223681\ttest: 1.7301451\tbest: 1.7301451 (48)\ttotal: 1m 18s\tremaining: 2m 42s\n",
      "49:\tlearn: 1.7190312\ttest: 1.7270266\tbest: 1.7270266 (49)\ttotal: 1m 20s\tremaining: 2m 40s\n",
      "50:\tlearn: 1.7158536\ttest: 1.7239504\tbest: 1.7239504 (50)\ttotal: 1m 21s\tremaining: 2m 38s\n",
      "51:\tlearn: 1.7125898\ttest: 1.7208922\tbest: 1.7208922 (51)\ttotal: 1m 23s\tremaining: 2m 36s\n",
      "52:\tlearn: 1.7095041\ttest: 1.7179026\tbest: 1.7179026 (52)\ttotal: 1m 24s\tremaining: 2m 34s\n",
      "53:\tlearn: 1.7064705\ttest: 1.7149620\tbest: 1.7149620 (53)\ttotal: 1m 25s\tremaining: 2m 32s\n",
      "54:\tlearn: 1.7036309\ttest: 1.7122903\tbest: 1.7122903 (54)\ttotal: 1m 27s\tremaining: 2m 30s\n",
      "55:\tlearn: 1.7008702\ttest: 1.7096514\tbest: 1.7096514 (55)\ttotal: 1m 28s\tremaining: 2m 28s\n",
      "56:\tlearn: 1.6982541\ttest: 1.7072047\tbest: 1.7072047 (56)\ttotal: 1m 30s\tremaining: 2m 27s\n",
      "57:\tlearn: 1.6957343\ttest: 1.7048196\tbest: 1.7048196 (57)\ttotal: 1m 31s\tremaining: 2m 25s\n",
      "58:\tlearn: 1.6934113\ttest: 1.7026413\tbest: 1.7026413 (58)\ttotal: 1m 33s\tremaining: 2m 24s\n",
      "59:\tlearn: 1.6911824\ttest: 1.7006050\tbest: 1.7006050 (59)\ttotal: 1m 34s\tremaining: 2m 22s\n",
      "60:\tlearn: 1.6889079\ttest: 1.6984434\tbest: 1.6984434 (60)\ttotal: 1m 36s\tremaining: 2m 20s\n",
      "61:\tlearn: 1.6868145\ttest: 1.6964394\tbest: 1.6964394 (61)\ttotal: 1m 37s\tremaining: 2m 18s\n",
      "62:\tlearn: 1.6846369\ttest: 1.6944613\tbest: 1.6944613 (62)\ttotal: 1m 39s\tremaining: 2m 17s\n",
      "63:\tlearn: 1.6823031\ttest: 1.6922095\tbest: 1.6922095 (63)\ttotal: 1m 40s\tremaining: 2m 15s\n",
      "64:\tlearn: 1.6802866\ttest: 1.6903814\tbest: 1.6903814 (64)\ttotal: 1m 42s\tremaining: 2m 13s\n",
      "65:\tlearn: 1.6782258\ttest: 1.6885031\tbest: 1.6885031 (65)\ttotal: 1m 43s\tremaining: 2m 11s\n",
      "66:\tlearn: 1.6763083\ttest: 1.6867648\tbest: 1.6867648 (66)\ttotal: 1m 45s\tremaining: 2m 10s\n",
      "67:\tlearn: 1.6742619\ttest: 1.6848554\tbest: 1.6848554 (67)\ttotal: 1m 46s\tremaining: 2m 8s\n",
      "68:\tlearn: 1.6724163\ttest: 1.6831844\tbest: 1.6831844 (68)\ttotal: 1m 47s\tremaining: 2m 6s\n",
      "69:\tlearn: 1.6709134\ttest: 1.6817142\tbest: 1.6817142 (69)\ttotal: 1m 48s\tremaining: 2m 4s\n",
      "70:\tlearn: 1.6694274\ttest: 1.6803810\tbest: 1.6803810 (70)\ttotal: 1m 49s\tremaining: 2m 2s\n",
      "71:\tlearn: 1.6677464\ttest: 1.6787683\tbest: 1.6787683 (71)\ttotal: 1m 51s\tremaining: 2m\n",
      "72:\tlearn: 1.6660121\ttest: 1.6771892\tbest: 1.6771892 (72)\ttotal: 1m 52s\tremaining: 1m 59s\n",
      "73:\tlearn: 1.6644289\ttest: 1.6757147\tbest: 1.6757147 (73)\ttotal: 1m 54s\tremaining: 1m 57s\n",
      "74:\tlearn: 1.6629611\ttest: 1.6743962\tbest: 1.6743962 (74)\ttotal: 1m 55s\tremaining: 1m 55s\n",
      "75:\tlearn: 1.6615096\ttest: 1.6731132\tbest: 1.6731132 (75)\ttotal: 1m 57s\tremaining: 1m 54s\n",
      "76:\tlearn: 1.6600107\ttest: 1.6717496\tbest: 1.6717496 (76)\ttotal: 1m 58s\tremaining: 1m 52s\n",
      "77:\tlearn: 1.6587925\ttest: 1.6706394\tbest: 1.6706394 (77)\ttotal: 1m 59s\tremaining: 1m 50s\n",
      "78:\tlearn: 1.6574393\ttest: 1.6694419\tbest: 1.6694419 (78)\ttotal: 2m 1s\tremaining: 1m 49s\n",
      "79:\tlearn: 1.6563099\ttest: 1.6684376\tbest: 1.6684376 (79)\ttotal: 2m 2s\tremaining: 1m 47s\n",
      "80:\tlearn: 1.6550810\ttest: 1.6673791\tbest: 1.6673791 (80)\ttotal: 2m 4s\tremaining: 1m 45s\n",
      "81:\tlearn: 1.6538976\ttest: 1.6665336\tbest: 1.6665336 (81)\ttotal: 2m 5s\tremaining: 1m 44s\n",
      "82:\tlearn: 1.6527269\ttest: 1.6655228\tbest: 1.6655228 (82)\ttotal: 2m 7s\tremaining: 1m 42s\n",
      "83:\tlearn: 1.6515983\ttest: 1.6645428\tbest: 1.6645428 (83)\ttotal: 2m 8s\tremaining: 1m 41s\n",
      "84:\tlearn: 1.6504133\ttest: 1.6635563\tbest: 1.6635563 (84)\ttotal: 2m 10s\tremaining: 1m 39s\n",
      "85:\tlearn: 1.6495603\ttest: 1.6627645\tbest: 1.6627645 (85)\ttotal: 2m 11s\tremaining: 1m 37s\n",
      "86:\tlearn: 1.6484652\ttest: 1.6619158\tbest: 1.6619158 (86)\ttotal: 2m 13s\tremaining: 1m 36s\n",
      "87:\tlearn: 1.6474640\ttest: 1.6610511\tbest: 1.6610511 (87)\ttotal: 2m 14s\tremaining: 1m 34s\n",
      "88:\tlearn: 1.6466200\ttest: 1.6603569\tbest: 1.6603569 (88)\ttotal: 2m 16s\tremaining: 1m 33s\n",
      "89:\tlearn: 1.6456172\ttest: 1.6595060\tbest: 1.6595060 (89)\ttotal: 2m 17s\tremaining: 1m 31s\n",
      "90:\tlearn: 1.6448276\ttest: 1.6588095\tbest: 1.6588095 (90)\ttotal: 2m 19s\tremaining: 1m 30s\n",
      "91:\tlearn: 1.6439801\ttest: 1.6580832\tbest: 1.6580832 (91)\ttotal: 2m 20s\tremaining: 1m 28s\n",
      "92:\tlearn: 1.6431404\ttest: 1.6574290\tbest: 1.6574290 (92)\ttotal: 2m 22s\tremaining: 1m 27s\n",
      "93:\tlearn: 1.6423396\ttest: 1.6567683\tbest: 1.6567683 (93)\ttotal: 2m 23s\tremaining: 1m 25s\n",
      "94:\tlearn: 1.6416037\ttest: 1.6561129\tbest: 1.6561129 (94)\ttotal: 2m 24s\tremaining: 1m 23s\n",
      "95:\tlearn: 1.6408776\ttest: 1.6555637\tbest: 1.6555637 (95)\ttotal: 2m 26s\tremaining: 1m 22s\n",
      "96:\tlearn: 1.6402081\ttest: 1.6550652\tbest: 1.6550652 (96)\ttotal: 2m 27s\tremaining: 1m 20s\n",
      "97:\tlearn: 1.6393785\ttest: 1.6544957\tbest: 1.6544957 (97)\ttotal: 2m 29s\tremaining: 1m 19s\n",
      "98:\tlearn: 1.6386706\ttest: 1.6539121\tbest: 1.6539121 (98)\ttotal: 2m 30s\tremaining: 1m 17s\n",
      "99:\tlearn: 1.6380410\ttest: 1.6534164\tbest: 1.6534164 (99)\ttotal: 2m 32s\tremaining: 1m 16s\n",
      "100:\tlearn: 1.6373593\ttest: 1.6528690\tbest: 1.6528690 (100)\ttotal: 2m 33s\tremaining: 1m 14s\n",
      "101:\tlearn: 1.6367347\ttest: 1.6523959\tbest: 1.6523959 (101)\ttotal: 2m 35s\tremaining: 1m 12s\n",
      "102:\tlearn: 1.6360446\ttest: 1.6518678\tbest: 1.6518678 (102)\ttotal: 2m 36s\tremaining: 1m 11s\n",
      "103:\tlearn: 1.6351803\ttest: 1.6512582\tbest: 1.6512582 (103)\ttotal: 2m 38s\tremaining: 1m 9s\n",
      "104:\tlearn: 1.6344225\ttest: 1.6505914\tbest: 1.6505914 (104)\ttotal: 2m 39s\tremaining: 1m 8s\n",
      "105:\tlearn: 1.6338071\ttest: 1.6500935\tbest: 1.6500935 (105)\ttotal: 2m 41s\tremaining: 1m 6s\n",
      "106:\tlearn: 1.6332074\ttest: 1.6496152\tbest: 1.6496152 (106)\ttotal: 2m 42s\tremaining: 1m 5s\n",
      "107:\tlearn: 1.6326858\ttest: 1.6492137\tbest: 1.6492137 (107)\ttotal: 2m 44s\tremaining: 1m 3s\n",
      "108:\tlearn: 1.6320388\ttest: 1.6487613\tbest: 1.6487613 (108)\ttotal: 2m 45s\tremaining: 1m 2s\n",
      "109:\tlearn: 1.6313292\ttest: 1.6482009\tbest: 1.6482009 (109)\ttotal: 2m 46s\tremaining: 1m\n",
      "110:\tlearn: 1.6306808\ttest: 1.6477286\tbest: 1.6477286 (110)\ttotal: 2m 48s\tremaining: 59.2s\n",
      "111:\tlearn: 1.6301351\ttest: 1.6473593\tbest: 1.6473593 (111)\ttotal: 2m 49s\tremaining: 57.6s\n",
      "112:\tlearn: 1.6295392\ttest: 1.6469239\tbest: 1.6469239 (112)\ttotal: 2m 51s\tremaining: 56s\n",
      "113:\tlearn: 1.6290108\ttest: 1.6464987\tbest: 1.6464987 (113)\ttotal: 2m 52s\tremaining: 54.5s\n",
      "114:\tlearn: 1.6284347\ttest: 1.6460969\tbest: 1.6460969 (114)\ttotal: 2m 53s\tremaining: 53s\n",
      "115:\tlearn: 1.6279880\ttest: 1.6457600\tbest: 1.6457600 (115)\ttotal: 2m 55s\tremaining: 51.4s\n",
      "116:\tlearn: 1.6274942\ttest: 1.6454125\tbest: 1.6454125 (116)\ttotal: 2m 56s\tremaining: 49.8s\n",
      "117:\tlearn: 1.6269551\ttest: 1.6450469\tbest: 1.6450469 (117)\ttotal: 2m 58s\tremaining: 48.3s\n",
      "118:\tlearn: 1.6264067\ttest: 1.6447031\tbest: 1.6447031 (118)\ttotal: 2m 59s\tremaining: 46.8s\n",
      "119:\tlearn: 1.6259745\ttest: 1.6443623\tbest: 1.6443623 (119)\ttotal: 3m 1s\tremaining: 45.3s\n",
      "120:\tlearn: 1.6254755\ttest: 1.6440387\tbest: 1.6440387 (120)\ttotal: 3m 2s\tremaining: 43.8s\n",
      "121:\tlearn: 1.6250337\ttest: 1.6436848\tbest: 1.6436848 (121)\ttotal: 3m 4s\tremaining: 42.2s\n",
      "122:\tlearn: 1.6245537\ttest: 1.6432819\tbest: 1.6432819 (122)\ttotal: 3m 5s\tremaining: 40.7s\n",
      "123:\tlearn: 1.6239971\ttest: 1.6428297\tbest: 1.6428297 (123)\ttotal: 3m 6s\tremaining: 39.2s\n",
      "124:\tlearn: 1.6235617\ttest: 1.6425080\tbest: 1.6425080 (124)\ttotal: 3m 8s\tremaining: 37.6s\n",
      "125:\tlearn: 1.6230393\ttest: 1.6421943\tbest: 1.6421943 (125)\ttotal: 3m 9s\tremaining: 36.1s\n",
      "126:\tlearn: 1.6225205\ttest: 1.6419206\tbest: 1.6419206 (126)\ttotal: 3m 11s\tremaining: 34.6s\n",
      "127:\tlearn: 1.6221654\ttest: 1.6417309\tbest: 1.6417309 (127)\ttotal: 3m 12s\tremaining: 33.1s\n",
      "128:\tlearn: 1.6217478\ttest: 1.6414412\tbest: 1.6414412 (128)\ttotal: 3m 14s\tremaining: 31.6s\n",
      "129:\tlearn: 1.6213431\ttest: 1.6411390\tbest: 1.6411390 (129)\ttotal: 3m 15s\tremaining: 30.1s\n",
      "130:\tlearn: 1.6209989\ttest: 1.6409117\tbest: 1.6409117 (130)\ttotal: 3m 16s\tremaining: 28.5s\n",
      "131:\tlearn: 1.6206899\ttest: 1.6406584\tbest: 1.6406584 (131)\ttotal: 3m 18s\tremaining: 27s\n",
      "132:\tlearn: 1.6201114\ttest: 1.6403445\tbest: 1.6403445 (132)\ttotal: 3m 19s\tremaining: 25.5s\n",
      "133:\tlearn: 1.6198631\ttest: 1.6401855\tbest: 1.6401855 (133)\ttotal: 3m 20s\tremaining: 24s\n",
      "134:\tlearn: 1.6194939\ttest: 1.6399665\tbest: 1.6399665 (134)\ttotal: 3m 22s\tremaining: 22.5s\n",
      "135:\tlearn: 1.6191985\ttest: 1.6397503\tbest: 1.6397503 (135)\ttotal: 3m 23s\tremaining: 21s\n",
      "136:\tlearn: 1.6188316\ttest: 1.6395518\tbest: 1.6395518 (136)\ttotal: 3m 25s\tremaining: 19.5s\n",
      "137:\tlearn: 1.6183885\ttest: 1.6392454\tbest: 1.6392454 (137)\ttotal: 3m 26s\tremaining: 18s\n",
      "138:\tlearn: 1.6180408\ttest: 1.6389804\tbest: 1.6389804 (138)\ttotal: 3m 28s\tremaining: 16.5s\n",
      "139:\tlearn: 1.6175080\ttest: 1.6387032\tbest: 1.6387032 (139)\ttotal: 3m 29s\tremaining: 15s\n",
      "140:\tlearn: 1.6170203\ttest: 1.6384976\tbest: 1.6384976 (140)\ttotal: 3m 31s\tremaining: 13.5s\n",
      "141:\tlearn: 1.6166085\ttest: 1.6383078\tbest: 1.6383078 (141)\ttotal: 3m 32s\tremaining: 12s\n",
      "142:\tlearn: 1.6160423\ttest: 1.6380255\tbest: 1.6380255 (142)\ttotal: 3m 34s\tremaining: 10.5s\n",
      "143:\tlearn: 1.6156356\ttest: 1.6377889\tbest: 1.6377889 (143)\ttotal: 3m 35s\tremaining: 8.98s\n",
      "144:\tlearn: 1.6152291\ttest: 1.6375483\tbest: 1.6375483 (144)\ttotal: 3m 36s\tremaining: 7.48s\n",
      "145:\tlearn: 1.6149479\ttest: 1.6373901\tbest: 1.6373901 (145)\ttotal: 3m 38s\tremaining: 5.98s\n",
      "146:\tlearn: 1.6145885\ttest: 1.6371962\tbest: 1.6371962 (146)\ttotal: 3m 40s\tremaining: 4.49s\n",
      "147:\tlearn: 1.6143502\ttest: 1.6370743\tbest: 1.6370743 (147)\ttotal: 3m 41s\tremaining: 2.99s\n",
      "148:\tlearn: 1.6140121\ttest: 1.6369137\tbest: 1.6369137 (148)\ttotal: 3m 43s\tremaining: 1.5s\n",
      "149:\tlearn: 1.6136803\ttest: 1.6367285\tbest: 1.6367285 (149)\ttotal: 3m 44s\tremaining: 0us\n",
      "\n",
      "bestTest = 1.636728522\n",
      "bestIteration = 149\n",
      "\n"
     ]
    },
    {
     "data": {
      "text/plain": [
       "<catboost.core.CatBoostClassifier at 0x24fcde1fd30>"
      ]
     },
     "execution_count": 33,
     "metadata": {},
     "output_type": "execute_result"
    }
   ],
   "source": [
    "from catboost import CatBoostClassifier, Pool\r\n",
    "from catboost.utils import get_confusion_matrix\r\n",
    "\r\n",
    "eval_dataset = Pool(X_test,\r\n",
    "                    y_test)\r\n",
    "\r\n",
    "model = CatBoostClassifier(iterations=150,\r\n",
    "                           learning_rate=0.03,\r\n",
    "                           depth=10,\r\n",
    "                           l2_leaf_reg = 3,\r\n",
    "                           loss_function='MultiClass',\r\n",
    "                           eval_metric='MultiClass')\r\n",
    "\r\n",
    "model.fit(X_train,\r\n",
    "          y_train,\r\n",
    "          eval_set=eval_dataset,\r\n",
    "          verbose=True)"
   ]
  },
  {
   "cell_type": "code",
   "execution_count": 34,
   "metadata": {},
   "outputs": [
    {
     "name": "stdout",
     "output_type": "stream",
     "text": [
      "{'learn': {'MultiClass': 1.6136803054588986}, 'validation': {'MultiClass': 1.6367285219254415}}\n"
     ]
    }
   ],
   "source": [
    "print(model.get_best_score())"
   ]
  },
  {
   "cell_type": "markdown",
   "metadata": {},
   "source": [
    "### Test Actual dataset"
   ]
  },
  {
   "cell_type": "code",
   "execution_count": 35,
   "metadata": {},
   "outputs": [
    {
     "name": "stdout",
     "output_type": "stream",
     "text": [
      "[[5.1600e+02 2.0480e+03 1.9680e+03 1.3000e+02 0.0000e+00 5.9000e+01\n",
      "  0.0000e+00 0.0000e+00 0.0000e+00 0.0000e+00 0.0000e+00]\n",
      " [2.8000e+02 6.1740e+03 7.7230e+03 8.2000e+02 0.0000e+00 6.2700e+02\n",
      "  0.0000e+00 0.0000e+00 0.0000e+00 0.0000e+00 4.0000e+00]\n",
      " [2.4200e+02 4.1530e+03 1.1872e+04 6.3100e+02 0.0000e+00 5.7900e+02\n",
      "  0.0000e+00 0.0000e+00 0.0000e+00 0.0000e+00 2.1000e+01]\n",
      " [1.4300e+02 2.0400e+03 5.2620e+03 1.5670e+03 0.0000e+00 1.9770e+03\n",
      "  0.0000e+00 1.0000e+00 0.0000e+00 0.0000e+00 4.2000e+01]\n",
      " [6.0000e+01 3.9000e+02 1.5530e+03 1.3600e+02 0.0000e+00 1.8800e+02\n",
      "  0.0000e+00 0.0000e+00 0.0000e+00 0.0000e+00 2.2000e+01]\n",
      " [6.0000e+01 7.1300e+02 2.0050e+03 1.1750e+03 0.0000e+00 2.9270e+03\n",
      "  0.0000e+00 2.0000e+00 6.0000e+00 0.0000e+00 1.1600e+02]\n",
      " [1.3000e+01 5.6000e+01 3.3700e+02 4.1000e+01 0.0000e+00 8.8000e+01\n",
      "  0.0000e+00 0.0000e+00 1.0000e+00 0.0000e+00 1.3000e+01]\n",
      " [1.8000e+01 1.5300e+02 5.3500e+02 2.8800e+02 0.0000e+00 9.2400e+02\n",
      "  0.0000e+00 4.0000e+00 2.0000e+00 0.0000e+00 1.2700e+02]\n",
      " [6.0000e+00 3.0000e+01 8.7000e+01 6.5000e+01 0.0000e+00 6.7600e+02\n",
      "  0.0000e+00 2.0000e+00 7.0000e+00 0.0000e+00 9.4000e+01]\n",
      " [3.0000e+00 3.7000e+01 1.4000e+02 7.6000e+01 0.0000e+00 2.3200e+02\n",
      "  0.0000e+00 1.0000e+00 2.0000e+00 0.0000e+00 6.2000e+01]\n",
      " [1.8000e+01 3.5000e+01 1.4900e+02 6.9000e+01 0.0000e+00 5.6800e+02\n",
      "  0.0000e+00 3.0000e+00 3.0000e+00 0.0000e+00 4.9100e+02]]\n"
     ]
    }
   ],
   "source": [
    "cm = get_confusion_matrix(model, eval_dataset)\r\n",
    "print(cm)"
   ]
  },
  {
   "cell_type": "code",
   "execution_count": 36,
   "metadata": {},
   "outputs": [
    {
     "data": {
      "image/png": "[encoded data removed]",
      "text/plain": [
       "<Figure size 432x288 with 2 Axes>"
      ]
     },
     "metadata": {
      "needs_background": "light"
     },
     "output_type": "display_data"
    }
   ],
   "source": [
    "predict_accuracy_on_test_set = (cm[0,0] + cm[1,1])/(cm[0,0] + cm[1,1]+cm[1,0] + cm[0,1])\r\n",
    "ax = sns.heatmap(cm, linewidth=1)\r\n",
    "plt.show()"
   ]
  },
  {
   "cell_type": "code",
   "execution_count": 39,
   "metadata": {},
   "outputs": [
    {
     "name": "stdout",
     "output_type": "stream",
     "text": [
      "catboost Acc : 74.18496340652028%\n"
     ]
    }
   ],
   "source": [
    "print(f\"catboost Acc : {predict_accuracy_on_test_set * 100}%\")"
   ]
  },
  {
   "cell_type": "code",
   "execution_count": 41,
   "metadata": {},
   "outputs": [],
   "source": [
    "# on Test Data"
   ]
  },
  {
   "cell_type": "code",
   "execution_count": 42,
   "metadata": {},
   "outputs": [
    {
     "data": {
      "text/html": [
       "<div>\n",
       "<style scoped>\n",
       "    .dataframe tbody tr th:only-of-type {\n",
       "        vertical-align: middle;\n",
       "    }\n",
       "\n",
       "    .dataframe tbody tr th {\n",
       "        vertical-align: top;\n",
       "    }\n",
       "\n",
       "    .dataframe thead th {\n",
       "        text-align: right;\n",
       "    }\n",
       "</style>\n",
       "<table border=\"1\" class=\"dataframe\">\n",
       "  <thead>\n",
       "    <tr style=\"text-align: right;\">\n",
       "      <th></th>\n",
       "      <th>case_id</th>\n",
       "      <th>Hospital_code</th>\n",
       "      <th>Hospital_type_code</th>\n",
       "      <th>City_Code_Hospital</th>\n",
       "      <th>Hospital_region_code</th>\n",
       "      <th>Available Extra Rooms in Hospital</th>\n",
       "      <th>Department</th>\n",
       "      <th>Ward_Type</th>\n",
       "      <th>Ward_Facility_Code</th>\n",
       "      <th>Bed Grade</th>\n",
       "      <th>patientid</th>\n",
       "      <th>City_Code_Patient</th>\n",
       "      <th>Type of Admission</th>\n",
       "      <th>Severity of Illness</th>\n",
       "      <th>Visitors with Patient</th>\n",
       "      <th>Age</th>\n",
       "      <th>Admission_Deposit</th>\n",
       "    </tr>\n",
       "  </thead>\n",
       "  <tbody>\n",
       "    <tr>\n",
       "      <th>0</th>\n",
       "      <td>318439</td>\n",
       "      <td>21</td>\n",
       "      <td>c</td>\n",
       "      <td>3</td>\n",
       "      <td>Z</td>\n",
       "      <td>3</td>\n",
       "      <td>gynecology</td>\n",
       "      <td>S</td>\n",
       "      <td>A</td>\n",
       "      <td>2.0</td>\n",
       "      <td>17006</td>\n",
       "      <td>2.0</td>\n",
       "      <td>Emergency</td>\n",
       "      <td>Moderate</td>\n",
       "      <td>2</td>\n",
       "      <td>71-80</td>\n",
       "      <td>3095.0</td>\n",
       "    </tr>\n",
       "    <tr>\n",
       "      <th>1</th>\n",
       "      <td>318440</td>\n",
       "      <td>29</td>\n",
       "      <td>a</td>\n",
       "      <td>4</td>\n",
       "      <td>X</td>\n",
       "      <td>2</td>\n",
       "      <td>gynecology</td>\n",
       "      <td>S</td>\n",
       "      <td>F</td>\n",
       "      <td>2.0</td>\n",
       "      <td>17006</td>\n",
       "      <td>2.0</td>\n",
       "      <td>Trauma</td>\n",
       "      <td>Moderate</td>\n",
       "      <td>4</td>\n",
       "      <td>71-80</td>\n",
       "      <td>4018.0</td>\n",
       "    </tr>\n",
       "    <tr>\n",
       "      <th>2</th>\n",
       "      <td>318441</td>\n",
       "      <td>26</td>\n",
       "      <td>b</td>\n",
       "      <td>2</td>\n",
       "      <td>Y</td>\n",
       "      <td>3</td>\n",
       "      <td>gynecology</td>\n",
       "      <td>Q</td>\n",
       "      <td>D</td>\n",
       "      <td>4.0</td>\n",
       "      <td>17006</td>\n",
       "      <td>2.0</td>\n",
       "      <td>Emergency</td>\n",
       "      <td>Moderate</td>\n",
       "      <td>3</td>\n",
       "      <td>71-80</td>\n",
       "      <td>4492.0</td>\n",
       "    </tr>\n",
       "    <tr>\n",
       "      <th>3</th>\n",
       "      <td>318442</td>\n",
       "      <td>6</td>\n",
       "      <td>a</td>\n",
       "      <td>6</td>\n",
       "      <td>X</td>\n",
       "      <td>3</td>\n",
       "      <td>gynecology</td>\n",
       "      <td>Q</td>\n",
       "      <td>F</td>\n",
       "      <td>2.0</td>\n",
       "      <td>17006</td>\n",
       "      <td>2.0</td>\n",
       "      <td>Trauma</td>\n",
       "      <td>Moderate</td>\n",
       "      <td>3</td>\n",
       "      <td>71-80</td>\n",
       "      <td>4173.0</td>\n",
       "    </tr>\n",
       "    <tr>\n",
       "      <th>4</th>\n",
       "      <td>318443</td>\n",
       "      <td>28</td>\n",
       "      <td>b</td>\n",
       "      <td>11</td>\n",
       "      <td>X</td>\n",
       "      <td>2</td>\n",
       "      <td>gynecology</td>\n",
       "      <td>R</td>\n",
       "      <td>F</td>\n",
       "      <td>2.0</td>\n",
       "      <td>17006</td>\n",
       "      <td>2.0</td>\n",
       "      <td>Trauma</td>\n",
       "      <td>Moderate</td>\n",
       "      <td>4</td>\n",
       "      <td>71-80</td>\n",
       "      <td>4161.0</td>\n",
       "    </tr>\n",
       "  </tbody>\n",
       "</table>\n",
       "</div>"
      ],
      "text/plain": [
       "   case_id  Hospital_code Hospital_type_code  City_Code_Hospital  \\\n",
       "0   318439             21                  c                   3   \n",
       "1   318440             29                  a                   4   \n",
       "2   318441             26                  b                   2   \n",
       "3   318442              6                  a                   6   \n",
       "4   318443             28                  b                  11   \n",
       "\n",
       "  Hospital_region_code  Available Extra Rooms in Hospital  Department  \\\n",
       "0                    Z                                  3  gynecology   \n",
       "1                    X                                  2  gynecology   \n",
       "2                    Y                                  3  gynecology   \n",
       "3                    X                                  3  gynecology   \n",
       "4                    X                                  2  gynecology   \n",
       "\n",
       "  Ward_Type Ward_Facility_Code  Bed Grade  patientid  City_Code_Patient  \\\n",
       "0         S                  A        2.0      17006                2.0   \n",
       "1         S                  F        2.0      17006                2.0   \n",
       "2         Q                  D        4.0      17006                2.0   \n",
       "3         Q                  F        2.0      17006                2.0   \n",
       "4         R                  F        2.0      17006                2.0   \n",
       "\n",
       "  Type of Admission Severity of Illness  Visitors with Patient    Age  \\\n",
       "0         Emergency            Moderate                      2  71-80   \n",
       "1            Trauma            Moderate                      4  71-80   \n",
       "2         Emergency            Moderate                      3  71-80   \n",
       "3            Trauma            Moderate                      3  71-80   \n",
       "4            Trauma            Moderate                      4  71-80   \n",
       "\n",
       "   Admission_Deposit  \n",
       "0             3095.0  \n",
       "1             4018.0  \n",
       "2             4492.0  \n",
       "3             4173.0  \n",
       "4             4161.0  "
      ]
     },
     "execution_count": 42,
     "metadata": {},
     "output_type": "execute_result"
    }
   ],
   "source": [
    "test= pd.read_csv('dataset/test_data.csv')\r\n",
    "test.head()"
   ]
  },
  {
   "cell_type": "code",
   "execution_count": 43,
   "metadata": {},
   "outputs": [
    {
     "data": {
      "text/plain": [
       "(137057, 17)"
      ]
     },
     "execution_count": 43,
     "metadata": {},
     "output_type": "execute_result"
    }
   ],
   "source": [
    "test.shape"
   ]
  },
  {
   "cell_type": "code",
   "execution_count": 44,
   "metadata": {},
   "outputs": [
    {
     "data": {
      "text/plain": [
       "case_id                                 0\n",
       "Hospital_code                           0\n",
       "Hospital_type_code                      0\n",
       "City_Code_Hospital                      0\n",
       "Hospital_region_code                    0\n",
       "Available Extra Rooms in Hospital       0\n",
       "Department                              0\n",
       "Ward_Type                               0\n",
       "Ward_Facility_Code                      0\n",
       "Bed Grade                              35\n",
       "patientid                               0\n",
       "City_Code_Patient                    2157\n",
       "Type of Admission                       0\n",
       "Severity of Illness                     0\n",
       "Visitors with Patient                   0\n",
       "Age                                     0\n",
       "Admission_Deposit                       0\n",
       "dtype: int64"
      ]
     },
     "execution_count": 44,
     "metadata": {},
     "output_type": "execute_result"
    }
   ],
   "source": [
    "test.isna().sum()"
   ]
  },
  {
   "cell_type": "code",
   "execution_count": 45,
   "metadata": {},
   "outputs": [],
   "source": [
    "test['City_Code_Patient'].fillna(statistics.mode(test['City_Code_Patient']),inplace=True)"
   ]
  },
  {
   "cell_type": "code",
   "execution_count": 50,
   "metadata": {},
   "outputs": [],
   "source": [
    "test.drop(['case_id', \r\n",
    "           'patientid', \r\n",
    "           'Available Extra Rooms in Hospital', \r\n",
    "           'Bed Grade', \r\n",
    "           'City_Code_Patient', \r\n",
    "           'Ward_Type'], axis=1, inplace=True\r\n",
    "         )"
   ]
  },
  {
   "cell_type": "code",
   "execution_count": 51,
   "metadata": {},
   "outputs": [
    {
     "data": {
      "text/html": [
       "<div>\n",
       "<style scoped>\n",
       "    .dataframe tbody tr th:only-of-type {\n",
       "        vertical-align: middle;\n",
       "    }\n",
       "\n",
       "    .dataframe tbody tr th {\n",
       "        vertical-align: top;\n",
       "    }\n",
       "\n",
       "    .dataframe thead th {\n",
       "        text-align: right;\n",
       "    }\n",
       "</style>\n",
       "<table border=\"1\" class=\"dataframe\">\n",
       "  <thead>\n",
       "    <tr style=\"text-align: right;\">\n",
       "      <th></th>\n",
       "      <th>Hospital_code</th>\n",
       "      <th>Hospital_type_code</th>\n",
       "      <th>City_Code_Hospital</th>\n",
       "      <th>Hospital_region_code</th>\n",
       "      <th>Department</th>\n",
       "      <th>Ward_Facility_Code</th>\n",
       "      <th>Type of Admission</th>\n",
       "      <th>Severity of Illness</th>\n",
       "      <th>Visitors with Patient</th>\n",
       "      <th>Age</th>\n",
       "      <th>Admission_Deposit</th>\n",
       "    </tr>\n",
       "  </thead>\n",
       "  <tbody>\n",
       "    <tr>\n",
       "      <th>0</th>\n",
       "      <td>21</td>\n",
       "      <td>c</td>\n",
       "      <td>3</td>\n",
       "      <td>Z</td>\n",
       "      <td>gynecology</td>\n",
       "      <td>A</td>\n",
       "      <td>Emergency</td>\n",
       "      <td>Moderate</td>\n",
       "      <td>2</td>\n",
       "      <td>71-80</td>\n",
       "      <td>3095.0</td>\n",
       "    </tr>\n",
       "    <tr>\n",
       "      <th>1</th>\n",
       "      <td>29</td>\n",
       "      <td>a</td>\n",
       "      <td>4</td>\n",
       "      <td>X</td>\n",
       "      <td>gynecology</td>\n",
       "      <td>F</td>\n",
       "      <td>Trauma</td>\n",
       "      <td>Moderate</td>\n",
       "      <td>4</td>\n",
       "      <td>71-80</td>\n",
       "      <td>4018.0</td>\n",
       "    </tr>\n",
       "  </tbody>\n",
       "</table>\n",
       "</div>"
      ],
      "text/plain": [
       "   Hospital_code Hospital_type_code  City_Code_Hospital Hospital_region_code  \\\n",
       "0             21                  c                   3                    Z   \n",
       "1             29                  a                   4                    X   \n",
       "\n",
       "   Department Ward_Facility_Code Type of Admission Severity of Illness  \\\n",
       "0  gynecology                  A         Emergency            Moderate   \n",
       "1  gynecology                  F            Trauma            Moderate   \n",
       "\n",
       "   Visitors with Patient    Age  Admission_Deposit  \n",
       "0                      2  71-80             3095.0  \n",
       "1                      4  71-80             4018.0  "
      ]
     },
     "execution_count": 51,
     "metadata": {},
     "output_type": "execute_result"
    }
   ],
   "source": [
    "test.head(2)"
   ]
  },
  {
   "cell_type": "code",
   "execution_count": 52,
   "metadata": {},
   "outputs": [
    {
     "data": {
      "text/plain": [
       "['Hospital_type_code',\n",
       " 'Hospital_region_code',\n",
       " 'Department',\n",
       " 'Ward_Facility_Code',\n",
       " 'Type of Admission',\n",
       " 'Severity of Illness',\n",
       " 'Age',\n",
       " 'City_Code_Hospital']"
      ]
     },
     "execution_count": 52,
     "metadata": {},
     "output_type": "execute_result"
    }
   ],
   "source": [
    "cat_cols"
   ]
  },
  {
   "cell_type": "code",
   "execution_count": 53,
   "metadata": {},
   "outputs": [],
   "source": [
    "for col in cat_cols:\r\n",
    "    test[col]= le.fit_transform(test[col])"
   ]
  },
  {
   "cell_type": "code",
   "execution_count": 54,
   "metadata": {},
   "outputs": [],
   "source": [
    "test[num_cols]= ss.transform(test[num_cols].values)"
   ]
  },
  {
   "cell_type": "code",
   "execution_count": 55,
   "metadata": {},
   "outputs": [
    {
     "data": {
      "text/html": [
       "<div>\n",
       "<style scoped>\n",
       "    .dataframe tbody tr th:only-of-type {\n",
       "        vertical-align: middle;\n",
       "    }\n",
       "\n",
       "    .dataframe tbody tr th {\n",
       "        vertical-align: top;\n",
       "    }\n",
       "\n",
       "    .dataframe thead th {\n",
       "        text-align: right;\n",
       "    }\n",
       "</style>\n",
       "<table border=\"1\" class=\"dataframe\">\n",
       "  <thead>\n",
       "    <tr style=\"text-align: right;\">\n",
       "      <th></th>\n",
       "      <th>Hospital_code</th>\n",
       "      <th>Hospital_type_code</th>\n",
       "      <th>City_Code_Hospital</th>\n",
       "      <th>Hospital_region_code</th>\n",
       "      <th>Department</th>\n",
       "      <th>Ward_Facility_Code</th>\n",
       "      <th>Type of Admission</th>\n",
       "      <th>Severity of Illness</th>\n",
       "      <th>Visitors with Patient</th>\n",
       "      <th>Age</th>\n",
       "      <th>Admission_Deposit</th>\n",
       "    </tr>\n",
       "  </thead>\n",
       "  <tbody>\n",
       "    <tr>\n",
       "      <th>0</th>\n",
       "      <td>0.310544</td>\n",
       "      <td>2</td>\n",
       "      <td>2</td>\n",
       "      <td>2</td>\n",
       "      <td>2</td>\n",
       "      <td>0</td>\n",
       "      <td>0</td>\n",
       "      <td>2</td>\n",
       "      <td>-0.727923</td>\n",
       "      <td>7</td>\n",
       "      <td>-1.643165</td>\n",
       "    </tr>\n",
       "    <tr>\n",
       "      <th>1</th>\n",
       "      <td>1.237141</td>\n",
       "      <td>0</td>\n",
       "      <td>3</td>\n",
       "      <td>0</td>\n",
       "      <td>2</td>\n",
       "      <td>5</td>\n",
       "      <td>1</td>\n",
       "      <td>2</td>\n",
       "      <td>0.405826</td>\n",
       "      <td>7</td>\n",
       "      <td>-0.793862</td>\n",
       "    </tr>\n",
       "    <tr>\n",
       "      <th>2</th>\n",
       "      <td>0.889668</td>\n",
       "      <td>1</td>\n",
       "      <td>1</td>\n",
       "      <td>1</td>\n",
       "      <td>2</td>\n",
       "      <td>3</td>\n",
       "      <td>0</td>\n",
       "      <td>2</td>\n",
       "      <td>-0.161049</td>\n",
       "      <td>7</td>\n",
       "      <td>-0.357709</td>\n",
       "    </tr>\n",
       "    <tr>\n",
       "      <th>3</th>\n",
       "      <td>-1.426825</td>\n",
       "      <td>0</td>\n",
       "      <td>5</td>\n",
       "      <td>0</td>\n",
       "      <td>2</td>\n",
       "      <td>5</td>\n",
       "      <td>1</td>\n",
       "      <td>2</td>\n",
       "      <td>-0.161049</td>\n",
       "      <td>7</td>\n",
       "      <td>-0.651238</td>\n",
       "    </tr>\n",
       "    <tr>\n",
       "      <th>4</th>\n",
       "      <td>1.121317</td>\n",
       "      <td>1</td>\n",
       "      <td>9</td>\n",
       "      <td>0</td>\n",
       "      <td>2</td>\n",
       "      <td>5</td>\n",
       "      <td>1</td>\n",
       "      <td>2</td>\n",
       "      <td>0.405826</td>\n",
       "      <td>7</td>\n",
       "      <td>-0.662280</td>\n",
       "    </tr>\n",
       "  </tbody>\n",
       "</table>\n",
       "</div>"
      ],
      "text/plain": [
       "   Hospital_code  Hospital_type_code  City_Code_Hospital  \\\n",
       "0       0.310544                   2                   2   \n",
       "1       1.237141                   0                   3   \n",
       "2       0.889668                   1                   1   \n",
       "3      -1.426825                   0                   5   \n",
       "4       1.121317                   1                   9   \n",
       "\n",
       "   Hospital_region_code  Department  Ward_Facility_Code  Type of Admission  \\\n",
       "0                     2           2                   0                  0   \n",
       "1                     0           2                   5                  1   \n",
       "2                     1           2                   3                  0   \n",
       "3                     0           2                   5                  1   \n",
       "4                     0           2                   5                  1   \n",
       "\n",
       "   Severity of Illness  Visitors with Patient  Age  Admission_Deposit  \n",
       "0                    2              -0.727923    7          -1.643165  \n",
       "1                    2               0.405826    7          -0.793862  \n",
       "2                    2              -0.161049    7          -0.357709  \n",
       "3                    2              -0.161049    7          -0.651238  \n",
       "4                    2               0.405826    7          -0.662280  "
      ]
     },
     "execution_count": 55,
     "metadata": {},
     "output_type": "execute_result"
    }
   ],
   "source": [
    "test.head()"
   ]
  },
  {
   "cell_type": "code",
   "execution_count": 56,
   "metadata": {},
   "outputs": [],
   "source": [
    "predictions= model.predict(test)"
   ]
  },
  {
   "cell_type": "code",
   "execution_count": 58,
   "metadata": {},
   "outputs": [
    {
     "name": "stdout",
     "output_type": "stream",
     "text": [
      "[['0-10']\n",
      " ['51-60']\n",
      " ['21-30']\n",
      " ['21-30']\n",
      " ['51-60']\n",
      " ['21-30']\n",
      " ['21-30']\n",
      " ['11-20']\n",
      " ['21-30']\n",
      " ['21-30']\n",
      " ['21-30']\n",
      " ['51-60']\n",
      " ['21-30']\n",
      " ['21-30']\n",
      " ['11-20']\n",
      " ['21-30']\n",
      " ['11-20']\n",
      " ['51-60']\n",
      " ['21-30']\n",
      " ['21-30']\n",
      " ['21-30']\n",
      " ['51-60']\n",
      " ['21-30']\n",
      " ['11-20']\n",
      " ['51-60']\n",
      " ['21-30']\n",
      " ['21-30']\n",
      " ['51-60']\n",
      " ['21-30']\n",
      " ['31-40']]\n"
     ]
    }
   ],
   "source": [
    "np. set_printoptions(threshold=np. inf)\r\n",
    "print(predictions[:30])"
   ]
  },
  {
   "cell_type": "code",
   "execution_count": 60,
   "metadata": {},
   "outputs": [
    {
     "data": {
      "text/plain": [
       "['classsifier_stay.bin']"
      ]
     },
     "execution_count": 60,
     "metadata": {},
     "output_type": "execute_result"
    }
   ],
   "source": [
    "# Saving the model\r\n",
    "dump(model, 'classsifier_stay.bin')"
   ]
  },
  {
   "cell_type": "markdown",
   "metadata": {},
   "source": []
  },
  {
   "cell_type": "code",
   "execution_count": null,
   "metadata": {},
   "outputs": [],
   "source": []
  }
 ],
 "metadata": {
  "interpreter": {
   "hash": "5adbdd2476e55320d1926eeee3254aff52259fe36b8837437d05a058c33ea3f6"
  },
  "kernelspec": {
   "display_name": "Python 3.8.7 64-bit",
   "name": "python3"
  },
  "language_info": {
   "name": "python",
   "version": ""
  }
 },
 "nbformat": 4,
 "nbformat_minor": 4
}